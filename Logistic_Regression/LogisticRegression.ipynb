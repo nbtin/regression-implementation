{
 "cells": [
  {
   "cell_type": "markdown",
   "metadata": {},
   "source": [
    "<!-- # **Học thống kê - 20TN** -->\n",
    "# **Lab assignment 2:** Logistic Regression\n",
    "\n",
    "**Student's information:**\n",
    "- **Name:** Nguyễn Bảo Tín \n",
    "- **Student ID:** 20120596"
   ]
  },
  {
   "cell_type": "markdown",
   "metadata": {},
   "source": [
    "#### **Table of contents**\n",
    "\n",
    "<ul style=\"list-style-type: none\">\n",
    "    <li><a href=\"#import\">0 - Import libraries</a></li>\n",
    "    <li><a href=\"#step1\">1 - Load and Visualize data</a></li>\n",
    "    <li><a href=\"#step1.1\">&emsp; 1.1 - Load data</a></li>\n",
    "    <li><a href=\"#step1.2\">&emsp; 1.2 - Visualize</a></li>\n",
    "    <li><a href=\"#step1.3\">&emsp; 1.3 - Map x1, x2 to a new data domain with 28 dimensions</a></li>\n",
    "    <li><a href=\"#step2\">2 - Implement model and some helper functions</a></li>\n",
    "    <li><a href=\"#step3\">3 - Train model</a></li>\n",
    "    <li><a href=\"#plot\">&emsp; Plot the Loss throughout the Learning process</a></li>\n",
    "    <li><a href=\"#step4\">4 - Evaluate model</a></li>\n",
    "    <li><a href=\"#step5\">5 - Draw decision boundary</a></li>\n",
    "    <li><a href=\"#step6\">6 - Save model and evaluation</a></li>\n",
    "    <li><a href=\"#ref\">References</a></li>\n",
    "</ul>\n"
   ]
  },
  {
   "cell_type": "markdown",
   "metadata": {},
   "source": [
    "<a id=\"baitoan\"></a>\n",
    "\n",
    "### **Yêu cầu**\n",
    "<details>\n",
    "  <summary>Click để xem yêu cầu</summary>\n",
    "  \n",
    "  - Cài đặt hồi quy logistic để dự đoán microchip của một nhà máy có đủ điều kiện để được bán ra thị trường hay không.\n",
    "  - Dữ liệu thô bao gồm 3 cột: cột 1 và 2 là các đặc trưng, cột 3 là nhãn. \n",
    "  - Dữ liệu huấn luyện là dữ liệu thô sau khi ánh xạ sang miền dữ liệu mới gồm 28 chiều. \n",
    "  - Cài đặt các hàm phụ trợ sau để thực hiện việc huấn luyện và dự đoán: \n",
    "    - compute_cost: tính toán chi phí của mô hình trên tập dữ liệu (công thức hàm chi phí được cung cấp trong phần 3). \n",
    "    - compute_gradient:  tính  vector  gradient  của  hàm  chi  phí  (công  thức  tính  vector gradient được cung cấp trong phần 3). \n",
    "    - gradient_descent: tính gradient descent. \n",
    "    - predict: dự đoán một tập các microchip có đủ điều kiện để bán ra thị trường hay không (nếu muốn dự đoán cho 1 microchip thì phải truyền vào một mảng gồm 1 phần tử). \n",
    "    - evaluate: đánh giá kết quả dự đoán của mô hình dựa trên các độ đo: accuracy, precision, recall và F1-score (tương tự phương thức classification_report của scikit-learn).\n",
    "  - Tiếp theo đó, sinh viên cần sử dụng các hàm phụ trợ để cài đặt phần chương trình chính bao gồm các yêu cầu sau: \n",
    "    - Đọc cấu hình huấn luyện từ tập tin config.json. \n",
    "    - Huấn luyện với dữ liệu được cung cấp từ tập tin training_data.txt. \n",
    "    - Lưu mô hình huấn luyện được vào tập tin model.json. \n",
    "    - Dự đoán và đánh giá kết quả huấn luyện trên tập dữ liệu huấn luyện, lưu kết quả đánh giá vào tập tin classification_report.json. \n",
    "</details>"
   ]
  },
  {
   "cell_type": "markdown",
   "metadata": {},
   "source": [
    "<a id=\"import\"></a>\n",
    "\n",
    "### **0 - Import Libraries**"
   ]
  },
  {
   "cell_type": "code",
   "execution_count": 1,
   "metadata": {},
   "outputs": [],
   "source": [
    "# Import libraries\n",
    "import numpy as np\n",
    "import matplotlib.pyplot as plt\n",
    "import pandas as pd\n",
    "from map_feature import map_feature, map_feature_one_point\n",
    "import json\n",
    "\n",
    "# make sure plot will be displayed below the code,\n",
    "# not in a separate window.\n",
    "%matplotlib inline\n",
    "\n",
    "THRESHOLD = 0.5"
   ]
  },
  {
   "cell_type": "markdown",
   "metadata": {},
   "source": [
    "<a id=\"step1\"></a>\n",
    "\n",
    "### **1 - Load and Visualize data**"
   ]
  },
  {
   "cell_type": "markdown",
   "metadata": {},
   "source": [
    "<a id=\"step1.1\"></a>\n",
    "\n",
    "#### **1.1 - Load data**: Load data from training_data.txt file."
   ]
  },
  {
   "cell_type": "code",
   "execution_count": 2,
   "metadata": {},
   "outputs": [
    {
     "data": {
      "text/html": [
       "<div>\n",
       "<style scoped>\n",
       "    .dataframe tbody tr th:only-of-type {\n",
       "        vertical-align: middle;\n",
       "    }\n",
       "\n",
       "    .dataframe tbody tr th {\n",
       "        vertical-align: top;\n",
       "    }\n",
       "\n",
       "    .dataframe thead th {\n",
       "        text-align: right;\n",
       "    }\n",
       "</style>\n",
       "<table border=\"1\" class=\"dataframe\">\n",
       "  <thead>\n",
       "    <tr style=\"text-align: right;\">\n",
       "      <th></th>\n",
       "      <th>0</th>\n",
       "      <th>1</th>\n",
       "      <th>2</th>\n",
       "    </tr>\n",
       "  </thead>\n",
       "  <tbody>\n",
       "    <tr>\n",
       "      <th>0</th>\n",
       "      <td>0.051267</td>\n",
       "      <td>0.69956</td>\n",
       "      <td>1</td>\n",
       "    </tr>\n",
       "    <tr>\n",
       "      <th>1</th>\n",
       "      <td>-0.092742</td>\n",
       "      <td>0.68494</td>\n",
       "      <td>1</td>\n",
       "    </tr>\n",
       "    <tr>\n",
       "      <th>2</th>\n",
       "      <td>-0.213710</td>\n",
       "      <td>0.69225</td>\n",
       "      <td>1</td>\n",
       "    </tr>\n",
       "    <tr>\n",
       "      <th>3</th>\n",
       "      <td>-0.375000</td>\n",
       "      <td>0.50219</td>\n",
       "      <td>1</td>\n",
       "    </tr>\n",
       "    <tr>\n",
       "      <th>4</th>\n",
       "      <td>-0.513250</td>\n",
       "      <td>0.46564</td>\n",
       "      <td>1</td>\n",
       "    </tr>\n",
       "  </tbody>\n",
       "</table>\n",
       "</div>"
      ],
      "text/plain": [
       "          0        1  2\n",
       "0  0.051267  0.69956  1\n",
       "1 -0.092742  0.68494  1\n",
       "2 -0.213710  0.69225  1\n",
       "3 -0.375000  0.50219  1\n",
       "4 -0.513250  0.46564  1"
      ]
     },
     "execution_count": 2,
     "metadata": {},
     "output_type": "execute_result"
    }
   ],
   "source": [
    "# load dataset\n",
    "df = pd.read_csv('training_data.txt', sep=',', header=None)\n",
    "df.head()"
   ]
  },
  {
   "cell_type": "code",
   "execution_count": 3,
   "metadata": {},
   "outputs": [],
   "source": [
    "X = df.iloc[:, :2].values\n",
    "y = df.iloc[:, -1].values"
   ]
  },
  {
   "cell_type": "markdown",
   "metadata": {},
   "source": [
    "<a id=\"step1.2\"></a>\n",
    "\n",
    "#### **1.2 - Visualize**"
   ]
  },
  {
   "cell_type": "code",
   "execution_count": 4,
   "metadata": {},
   "outputs": [],
   "source": [
    "def plot_data(X, y, title = \"Plot_data\", pos_label=\"y = 1\", neg_label=\"y = 0\"):\n",
    "    pos = np.where(y == 1)\n",
    "    neg = np.where(y == 0)\n",
    "    plt.scatter(X[pos, 0], X[pos, 1], color='green', s=20, label=pos_label)\n",
    "    plt.scatter(X[neg, 0], X[neg, 1], color='red', s=20, label=neg_label)\n",
    "    plt.legend()\n",
    "    plt.title(title)"
   ]
  },
  {
   "cell_type": "code",
   "execution_count": 5,
   "metadata": {},
   "outputs": [
    {
     "data": {
      "image/png": "[encoded data removed]",
      "text/plain": [
       "<Figure size 640x480 with 1 Axes>"
      ]
     },
     "metadata": {},
     "output_type": "display_data"
    }
   ],
   "source": [
    "plot_data(X, y)"
   ]
  },
  {
   "cell_type": "markdown",
   "metadata": {},
   "source": [
    "<a id=\"step1.3\"></a>\n",
    "\n",
    "#### **1.3 - Map x1, x2 to a new data domain with 28 dimensions.**"
   ]
  },
  {
   "cell_type": "code",
   "execution_count": 6,
   "metadata": {},
   "outputs": [],
   "source": [
    "# map x1, x2 to 28-D features.\n",
    "X_mapped = map_feature(X[:,0], X[:,1])"
   ]
  },
  {
   "cell_type": "markdown",
   "metadata": {},
   "source": [
    "<a id=\"step2\"></a>\n",
    "\n",
    "### **2 - Implement model and some helper functions**"
   ]
  },
  {
   "cell_type": "code",
   "execution_count": 7,
   "metadata": {},
   "outputs": [],
   "source": [
    "# sigmoid function\n",
    "def sigmoid(z):\n",
    "    return 1 / (1 + np.exp(-z))"
   ]
  },
  {
   "cell_type": "code",
   "execution_count": 8,
   "metadata": {},
   "outputs": [],
   "source": [
    "# padding the column of 1 to the beginning of X\n",
    "def padding_X(X):\n",
    "    X = np.concatenate((np.ones((X.shape[0], 1)), X), axis = 1)\n",
    "    return X"
   ]
  },
  {
   "cell_type": "code",
   "execution_count": 9,
   "metadata": {},
   "outputs": [],
   "source": [
    "class LogisticRegression:\n",
    "    def __init__(self, alpha=0.5, iters=10000, lambda_= 1, verbose=False):\n",
    "        self.alpha = alpha\n",
    "        self.iters = iters\n",
    "        self.lambda_ = lambda_\n",
    "        self.verbose = verbose\n",
    "        self.theta = None\n",
    "    \n",
    "    def compute_cost(self, X, y):\n",
    "        rows = X.shape[0]\n",
    "        \n",
    "        cost = 0\n",
    "        for i in range(rows):\n",
    "            hypo = sigmoid(np.dot(X[i], self.theta))\n",
    "            cost += -y[i] * np.log(hypo) - (1 - y[i]) * np.log(1 - hypo)\n",
    "        \n",
    "        # add regularization cost\n",
    "        return cost / rows + (self.lambda_ / (2 * rows)) * np.sum(np.square(self.theta))\n",
    "    \n",
    "    def compute_gradient(self, X, y):\n",
    "        rows, cols = X.shape\n",
    "        dtheta = np.zeros(cols)\n",
    "\n",
    "        for i in range(rows):\n",
    "            hypo = sigmoid(np.dot(X[i], self.theta))          \n",
    "            error  = hypo  - y[i]\n",
    "            dtheta += error * X[i]\n",
    "        \n",
    "        dtheta = dtheta / rows\n",
    "        dtheta += (self.lambda_ / rows) * self.theta\n",
    "        return dtheta\n",
    "    \n",
    "    def gradient_descent(self, X, y):\n",
    "        cols = X.shape[1]\n",
    "        # randomly choose w in range [-1, 1]\n",
    "        self.theta = np.random.rand(cols) * 2 - 1\n",
    "\n",
    "        J_history = [] # save history of J (loss function) to visualize how well the model learned to decrease the loss.\n",
    "        \n",
    "        for i in range(self.iters):\n",
    "            # Calculate gradient\n",
    "            dtheta = self.compute_gradient(X, y)   \n",
    "\n",
    "            # Update Parameters\n",
    "            self.theta -= self.alpha * dtheta\n",
    "            cost =  self.compute_cost(X, y)\n",
    "            J_history.append(cost)\n",
    "\n",
    "            # Print loss\n",
    "            if self.verbose:\n",
    "                if i in [self.iters * k / 10 - 1 for k in range(1, 10)] or i == self.iters - 1 or i == 0:\n",
    "                    print(f\"Iteration {i + 1:4}: Loss {float(J_history[-1]):4.3f}.\")\n",
    "            \n",
    "        return self.theta, J_history\n",
    "    \n",
    "    def fit(self, X, y):\n",
    "        # padding a column of 1 to the beginning of X.\n",
    "        X = padding_X(X)\n",
    "        return self.gradient_descent(X, y)\n",
    "    \n",
    "    def predict(self, X, threshold=0.5):\n",
    "        rows = X.shape[0]\n",
    "        y_pred = np.zeros(rows)\n",
    "\n",
    "        for i in range(rows):   \n",
    "            # calculate the probability for each row's result to be 1.\n",
    "            prob = sigmoid(np.dot(X[i], self.theta))\n",
    "\n",
    "            # Determine the result of prediction depending on the threshold = 0.5\n",
    "            y_pred[i] = 1 if prob >= threshold else 0\n",
    "        \n",
    "        return y_pred\n",
    "\n",
    "    def evaluate(self, X, y):\n",
    "        # padding a column of 1 to the beginning of X.\n",
    "        X = padding_X(X)\n",
    "        y_pred = self.predict(X)\n",
    "        n_eval = X.shape[0]\n",
    "\n",
    "        # accuracy = number of predictions that exactly matched with the labels.\n",
    "        accuracy = sum([1 for i in range(n_eval) if y_pred[i] == y[i]]) * 1.0 / n_eval\n",
    "\n",
    "        # print summary of evaluation\n",
    "        print(\"-------EVALUATION OF LOGISTIC REGRESSION MODEL-------\")\n",
    "        print(f\"Accuracy: {accuracy:.5f}\\n\")\n",
    "        \n",
    "        report = []\n",
    "        for label in set(y):\n",
    "            # calculate true positives, false positives, and false negatives\n",
    "            tp = sum([1 for i in range(n_eval) if y[i] == label and y_pred[i] == label])\n",
    "            fp = sum([1 for i in range(n_eval) if y[i] != label and y_pred[i] == label])\n",
    "            fn = sum([1 for i in range(n_eval) if y[i] == label and y_pred[i] != label])\n",
    "\n",
    "            precision = tp * 1.0 / (tp + fp)\n",
    "            recall = tp * 1.0 / (tp + fn)\n",
    "            f1_score = 2 * (precision * recall) / (precision + recall)\n",
    "            support = sum(y == label)\n",
    "            \n",
    "            report.append([precision, recall, f1_score, support])\n",
    "\n",
    "        # create a list of row labels\n",
    "        row_labels = ['class 0', 'class 1']\n",
    "\n",
    "        df = pd.DataFrame(report, index = row_labels, columns = ['precision', 'recall', 'f1-score', 'support'])\n",
    "        print(\"Classification report:\")\n",
    "        print(df)\n",
    "\n",
    "        return accuracy, report"
   ]
  },
  {
   "cell_type": "markdown",
   "metadata": {},
   "source": [
    "<a id=\"step3\"></a>\n",
    "\n",
    "### **3 - Train model**"
   ]
  },
  {
   "cell_type": "code",
   "execution_count": 10,
   "metadata": {},
   "outputs": [
    {
     "name": "stdout",
     "output_type": "stream",
     "text": [
      "Iteration    1: Loss 0.744.\n",
      "Iteration  100: Loss 0.586.\n",
      "Iteration  200: Loss 0.553.\n",
      "Iteration  300: Loss 0.542.\n",
      "Iteration  400: Loss 0.537.\n",
      "Iteration  500: Loss 0.534.\n",
      "Iteration  600: Loss 0.533.\n",
      "Iteration  700: Loss 0.533.\n",
      "Iteration  800: Loss 0.533.\n",
      "Iteration  900: Loss 0.532.\n",
      "Iteration 1000: Loss 0.532.\n"
     ]
    }
   ],
   "source": [
    "# Load config\n",
    "with open('config.json',) as f:\n",
    "    configs = json.load(f)\n",
    "\n",
    "model = LogisticRegression(alpha=configs['Alpha'], iters=configs['NumIter'], lambda_=configs['Lambda'],verbose=True)\n",
    "history = model.fit(X_mapped, y)"
   ]
  },
  {
   "cell_type": "markdown",
   "metadata": {},
   "source": [
    "<a id=\"plot\"></a>\n",
    "\n",
    "#### **Plot the Loss throughout the Learning process**"
   ]
  },
  {
   "cell_type": "code",
   "execution_count": 11,
   "metadata": {},
   "outputs": [],
   "source": [
    "def plot_model(model, history):\n",
    "    x_axis = [i for i in range(model.iters)]\n",
    "    plt.plot(x_axis, history[1])\n",
    "    plt.xlabel(\"Iterations\")\n",
    "    plt.ylabel(\"Loss\")\n",
    "    plt.title(f\"Learning process with learning rate alpha = {model.alpha}\")\n",
    "    plt.show()"
   ]
  },
  {
   "cell_type": "code",
   "execution_count": 12,
   "metadata": {},
   "outputs": [
    {
     "data": {
      "image/png": "[encoded data removed]",
      "text/plain": [
       "<Figure size 640x480 with 1 Axes>"
      ]
     },
     "metadata": {},
     "output_type": "display_data"
    }
   ],
   "source": [
    "plot_model(model, history)"
   ]
  },
  {
   "cell_type": "markdown",
   "metadata": {},
   "source": [
    "<a id=\"step4\"></a>\n",
    "\n",
    "### **4 - Evaluate model**\n",
    "Evaluate model on the whole training data by using *model.evaluate* method, which returns the **accuracy**, **precision**, **recall** and **F1 score**."
   ]
  },
  {
   "cell_type": "code",
   "execution_count": 13,
   "metadata": {},
   "outputs": [
    {
     "name": "stdout",
     "output_type": "stream",
     "text": [
      "-------EVALUATION OF LOGISTIC REGRESSION MODEL-------\n",
      "Accuracy: 0.83051\n",
      "\n",
      "Classification report:\n",
      "         precision    recall  f1-score  support\n",
      "class 0   0.900000  0.750000  0.818182       60\n",
      "class 1   0.779412  0.913793  0.841270       58\n"
     ]
    }
   ],
   "source": [
    "evaluation = model.evaluate(X_mapped, y)"
   ]
  },
  {
   "cell_type": "markdown",
   "metadata": {},
   "source": [
    "<a id=\"step5\"></a>\n",
    "\n",
    "### **5 - Draw decision boundary**\n",
    "Draw decision boundary with [contour](https://matplotlib.org/stable/api/_as_gen/matplotlib.pyplot.contour.html) function from [matplotlib](https://matplotlib.org/) library.\n",
    "\n",
    "This function will draw a boundary separating data labeled with 0 and 1."
   ]
  },
  {
   "cell_type": "code",
   "execution_count": 14,
   "metadata": {},
   "outputs": [],
   "source": [
    "def plot_decision_boundary(theta, X, y):\n",
    "    plot_data(X, y, \"Draw decision boundary\")\n",
    "    \n",
    "    x_coor = np.linspace(np.min(X[:,0]) - 0.05, np.max(X[:,0]) + 0.05, 50)\n",
    "    y_coor = np.linspace(np.min(X[:,1]) - 0.05, np.max(X[:,1]) + 0.05, 50)\n",
    "    z_coor = np.zeros((x_coor.shape[0], y_coor.shape[0]))\n",
    "\n",
    "    # calculate z coordinates for every (x_coor, y_coor) point \n",
    "    # by using the sigmoid function after mapping -> 28-D\n",
    "    for i in range(len(x_coor)):\n",
    "        for j in range(len(y_coor)):\n",
    "            z_coor[i,j] = sigmoid(np.dot(np.insert(map_feature_one_point(x_coor[i], y_coor[j]), 0, 1), theta))\n",
    "\n",
    "    plt.contour(x_coor, y_coor, z_coor.T, levels = [THRESHOLD], colors=[\"blue\"])"
   ]
  },
  {
   "cell_type": "code",
   "execution_count": 15,
   "metadata": {},
   "outputs": [
    {
     "data": {
      "image/png": "[encoded data removed]",
      "text/plain": [
       "<Figure size 640x480 with 1 Axes>"
      ]
     },
     "metadata": {},
     "output_type": "display_data"
    }
   ],
   "source": [
    "plot_decision_boundary(model.theta, X, y)"
   ]
  },
  {
   "cell_type": "markdown",
   "metadata": {},
   "source": [
    "<a id=\"step6\"></a>\n",
    "\n",
    "### **6 - Save model and evaluation**\n",
    "- **Save model**: save parameters theta to *model.json* file.\n",
    "- **Save evaluation**: save result of evaluation to *classification_report.json* file. "
   ]
  },
  {
   "cell_type": "code",
   "execution_count": 16,
   "metadata": {},
   "outputs": [],
   "source": [
    "# Save model\n",
    "with open('model.json', 'w') as f:\n",
    "    json.dump({'theta': model.theta.tolist()}, f)"
   ]
  },
  {
   "cell_type": "code",
   "execution_count": 17,
   "metadata": {},
   "outputs": [],
   "source": [
    "# prepare report\n",
    "report = []\n",
    "result = {'Accuracy': evaluation[0],\n",
    "           'Class 0': [],\n",
    "           'Class 1': []}\n",
    "\n",
    "class_0 = {'Precision': evaluation[1][0][0],\n",
    "            'Recall': evaluation[1][0][1],\n",
    "            'F1_score': evaluation[1][0][2],\n",
    "            'Support': int(evaluation[1][0][3])} # convert np.int32 to int (avoid ParseError)\n",
    "class_1 = {'Precision': evaluation[1][1][0],\n",
    "            'Recall': evaluation[1][1][1],\n",
    "            'F1_score': evaluation[1][1][2],\n",
    "            'Support': int(evaluation[1][1][3])} # convert np.int32 to int (avoid ParserError)\n",
    "\n",
    "result[\"Class 0\"].append(class_0)\n",
    "result[\"Class 1\"].append(class_1)\n",
    "report.append(result)\n",
    "\n",
    "# Save evaluation result\n",
    "with open('classification_report.json', 'w') as f:\n",
    "    json.dump(report, f)"
   ]
  },
  {
   "cell_type": "markdown",
   "metadata": {},
   "source": [
    "<a id=\"ref\"></a>\n",
    "\n",
    "### **References**\n",
    "- [Supervised Machine Learning: Logistic Regression (Week 3) - Andrew Ng](https://www.coursera.org/learn/machine-learning#:~:text=Week%203%3A%20Classification)\n",
    "- [Matplotlib API Reference](https://matplotlib.org/stable/api)\n",
    "- [classification_report - Scikit-learn](https://scikit-learn.org/stable/modules/generated/sklearn.metrics.classification_report.html)"
   ]
  }
 ],
 "metadata": {
  "kernelspec": {
   "display_name": "Python 3 (ipykernel)",
   "language": "python",
   "name": "python3"
  },
  "language_info": {
   "codemirror_mode": {
    "name": "ipython",
    "version": 3
   },
   "file_extension": ".py",
   "mimetype": "text/x-python",
   "name": "python",
   "nbconvert_exporter": "python",
   "pygments_lexer": "ipython3",
   "version": "3.11.5"
  }
 },
 "nbformat": 4,
 "nbformat_minor": 2
}
